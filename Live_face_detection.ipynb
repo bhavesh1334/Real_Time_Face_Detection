{
 "cells": [
  {
   "cell_type": "code",
   "execution_count": 1,
   "metadata": {},
   "outputs": [
    {
     "name": "stdout",
     "output_type": "stream",
     "text": [
      "success\n"
     ]
    }
   ],
   "source": [
    "import cv2\n",
    "from random import randrange\n",
    "\n",
    "#load some pre-trained  data on face frontals from opencv\n",
    "trained_face_data=cv2.CascadeClassifier('haarcascade_frontalface_default.xml')\n",
    "\n",
    "\n",
    "\n",
    "#capture video from webcam\n",
    "webcam= cv2.VideoCapture(0)\n",
    "\n",
    "\n",
    "while True:\n",
    "    \n",
    "    successful_frame_read, frame = webcam.read()\n",
    "    \n",
    "    \n",
    "    #turn image to gray\n",
    "    grayscaled_img = cv2.cvtColor(frame , cv2.COLOR_BGR2GRAY)\n",
    "    \n",
    "    \n",
    "\n",
    "    #DETECT FACES \n",
    "    face_coordinates = trained_face_data.detectMultiScale(grayscaled_img)\n",
    "\n",
    "    for (x,y,w,h) in face_coordinates:\n",
    "        cv2.rectangle(grayscaled_img, (x,y),(x+w, y+h),(randrange(256),randrange(256),randrange(256)),5)\n",
    "\n",
    "    #cv2.imshow('image',img)\n",
    "    cv2.imshow('clever bhavesh image',grayscaled_img)\n",
    "    key=cv2.waitKey(1)\n",
    "   \n",
    "    if key==81 or key==113:\n",
    "        break\n",
    "        \n",
    "webcam.release()     \n",
    "\n",
    "\n",
    "print('success')\n",
    "\n"
   ]
  },
  {
   "cell_type": "code",
   "execution_count": null,
   "metadata": {},
   "outputs": [],
   "source": []
  }
 ],
 "metadata": {
  "kernelspec": {
   "display_name": "Python bc",
   "language": "python",
   "name": "nwker"
  },
  "language_info": {
   "codemirror_mode": {
    "name": "ipython",
    "version": 3
   },
   "file_extension": ".py",
   "mimetype": "text/x-python",
   "name": "python",
   "nbconvert_exporter": "python",
   "pygments_lexer": "ipython3",
   "version": "3.6.5"
  }
 },
 "nbformat": 4,
 "nbformat_minor": 2
}
